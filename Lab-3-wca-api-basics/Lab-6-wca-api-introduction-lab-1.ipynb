{
 "cells": [
  {
   "cell_type": "markdown",
   "metadata": {},
   "source": [
    "##### Before starting lab, create a .env file (refer to .env-sample) and add IAM_APIKEY to it, which is basically the API key for wca.\n",
    "\n",
    "##### Also do pip install -r requirements.txt"
   ]
  },
  {
   "cell_type": "code",
   "execution_count": 1,
   "metadata": {},
   "outputs": [],
   "source": [
    "from wca_utils import *"
   ]
  },
  {
   "cell_type": "markdown",
   "metadata": {},
   "source": [
    "### Lab 1.1. Generate REST API from swagger specification\n",
    "\n",
    "#### Here, we will be using a prompt to interact with wca API. The basic prompt will be generating a REST API in python using a swagger specification file. You can just run the following cell to see the output. Feel free to experiment with your own prompt and swagger specficiations"
   ]
  },
  {
   "cell_type": "code",
   "execution_count": 2,
   "metadata": {},
   "outputs": [
    {
     "name": "stdout",
     "output_type": "stream",
     "text": [
      "```python\n",
      "# Assisted by watsonx Code Assistant \n",
      "from flask import Flask, jsonify\n",
      "\n",
      "app = Flask(__name__)\n",
      "\n",
      "@app.route('/pets', methods=['GET'])\n",
      "def get_pets():\n",
      "    pets = [\n",
      "        {\n",
      "            'id': 1,\n",
      "            'name': 'Dog',\n",
      "            'tag': 'Dog'\n",
      "        },\n",
      "        {\n",
      "            'id': 2,\n",
      "            'name': 'Cat',\n",
      "            'tag': 'Cat'\n",
      "        }\n",
      "    ]\n",
      "    return jsonify(pets)\n",
      "\n",
      "if __name__ == '__main__':\n",
      "    app.run()\n",
      "```\n"
     ]
    }
   ],
   "source": [
    "# sample\n",
    "text = \"\"\"Generate a REST API in Python, based on the following swagger specification:\"\"\"\n",
    "payload = build_basic_prompt_paylod(text)\n",
    "response = call_wca_url(payload=payload, apikey=iam_apikey, file_dict=[\"assets/petstore-minimal.json\"])\n",
    "result = (response['response']['message']['content'])\n",
    "print(result)"
   ]
  },
  {
   "cell_type": "markdown",
   "metadata": {},
   "source": [
    "### Lab 1.2. Generate Simple Explanation for a file\n",
    "\n",
    "#### Here, we will be using a prompt to interact with wca API. The basic prompt will be to explain a simple python file. Feel free to write your own prompt and use any of your code to get the explanation"
   ]
  },
  {
   "cell_type": "code",
   "execution_count": 3,
   "metadata": {},
   "outputs": [
    {
     "name": "stdout",
     "output_type": "stream",
     "text": [
      "This code is a Python script that uses the FastAPI framework to create an API for managing user data. The API includes endpoints for retrieving all users, retrieving a user by ID, creating a new user, updating a user, and deleting a user. The code also uses SQLAlchemy to interact with a database and define the User model.\n"
     ]
    }
   ],
   "source": [
    "text = \"\"\" Generate a simple explanation for the following code:  \"\"\" \n",
    "payload = build_basic_prompt_paylod(text)\n",
    "response = call_wca_url(payload=payload, apikey=iam_apikey, file_dict=[\"assets/sample.py\"]) \n",
    "result = (response['response']['message']['content'])\n",
    "print(result)"
   ]
  },
  {
   "cell_type": "markdown",
   "metadata": {},
   "source": [
    "### Lab 1.3. Generate Unit Tests for a file\n",
    "\n",
    "#### Here, we will be using a prompt to interact with wca API to generate unit tests for sample python file."
   ]
  },
  {
   "cell_type": "code",
   "execution_count": 4,
   "metadata": {},
   "outputs": [
    {
     "name": "stdout",
     "output_type": "stream",
     "text": [
      "```bash\n",
      "# Assisted by watsonx Code Assistant \n",
      "# watsonx Code Assistant did not check whether this code suggestion might be similar to third party code.\n",
      "from unittest import TestCase\n",
      "from unittest.mock import patch\n",
      "from fastapi import FastAPI\n",
      "from sqlalchemy.orm import Session\n",
      "from app.database import get_db\n",
      "from app.models import User\n",
      "from app.schema import UserCreate, UserUpdate\n",
      "\n",
      "app = FastAPI()\n",
      "\n",
      "class TestUserAPI(TestCase):\n",
      "    def setUp(self):\n",
      "        self.app = FastAPI()\n",
      "        self.client = self.app.test_client()\n",
      "\n",
      "    def test_get_all_users(self):\n",
      "        with patch(\"app.database.get_db\") as mock_get_db:\n",
      "            mock_get_db.return_value = Session()\n",
      "            mock_get_db.return_value.query.return_value.all.return_value = [User(id=1, name=\"test\", email=\"test@test.com\", password=\"test\")]\n",
      "            response = self.client.get(\"/users/\")\n",
      "            assert response.status_code == 200\n",
      "            assert response.json() == [User(id=1, name=\"test\", email=\"test@test.com\", password=\"test\")]\n",
      "\n",
      "    def test_get_user_by_email(self):\n",
      "        with patch(\"app.database.get_db\") as mock_get_db:\n",
      "            mock_get_db.return_value = Session()\n",
      "            mock_get_db.return_value.query.return_value.filter.return_value.first.return_value = User(id=1, name=\"test\", email=\"test@test.com\", password=\"test\")\n",
      "            response = self.client.get(\"/users/1\")\n",
      "            assert response.status_code == 200\n",
      "            assert response.json() == User(id=1, name=\"test\", email=\"test@test.com\", password=\"test\")\n",
      "\n",
      "    def test_create_user(self):\n",
      "        with patch(\"app.database.get_db\") as mock_get_db:\n",
      "            mock_get_db.return_value = Session()\n",
      "            mock_get_db.return_value.add.return_value = User(id=1, name=\"test\", email=\"test@test.com\", password=\"test\")\n",
      "            response = self.client.post(\"/users/\", json={\"name\": \"test\", \"email\": \"test@test.com\", \"password\": \"test\"})\n",
      "            assert response.status_code == 200\n",
      "            assert response.json() == User(id=1, name=\"test\", email=\"test@test.com\", password=\"test\")\n",
      "\n",
      "    def test_update_user_by_email(self):\n",
      "        with patch(\"app.database.get_db\") as mock_get_db:\n",
      "            mock_get_db.return_value = Session()\n",
      "            mock_get_db.return_value.query.return_value.filter.return_value.first.return_value = User(id=1, name=\"test\", email=\"test@test.com\", password=\"test\")\n",
      "            response = self.client.put(\"/users/1\", json={\"name\": \"test\", \"email\": \"test@test.com\", \"password\": \"test\"})\n",
      "            assert response.status_code == 200\n",
      "            assert response.json() == {\"message\": \"User updated successfully\"}\n",
      "\n",
      "    def test_delete_user_by_email(self):\n",
      "        with patch(\"app.database.get_db\") as mock_get_db:\n",
      "            mock_get_db.return_value = Session()\n",
      "            mock_get_db.return_value.query.return_value.filter.return_value.first.return_value = User(id=1, name=\"test\", email=\"test@test.com\", password=\"test\")\n",
      "            response = self.client.delete(\"/users/1\")\n",
      "            assert response.status_code == 200\n",
      "            assert response.json() == {\"message\": \"User deleted successfully\"}\n",
      "```\n"
     ]
    }
   ],
   "source": [
    "text = \"\"\" Generate unit test framework for the following code: \"\"\" \n",
    "payload = build_basic_prompt_paylod(text)\n",
    "response = call_wca_url(payload=payload, apikey=iam_apikey, file_dict=[\"assets/sample.py\"]) \n",
    "result = (response['response']['message']['content'])\n",
    "print(result)"
   ]
  }
 ],
 "metadata": {
  "kernelspec": {
   "display_name": ".venv",
   "language": "python",
   "name": "python3"
  },
  "language_info": {
   "codemirror_mode": {
    "name": "ipython",
    "version": 3
   },
   "file_extension": ".py",
   "mimetype": "text/x-python",
   "name": "python",
   "nbconvert_exporter": "python",
   "pygments_lexer": "ipython3",
   "version": "3.11.5"
  }
 },
 "nbformat": 4,
 "nbformat_minor": 2
}
