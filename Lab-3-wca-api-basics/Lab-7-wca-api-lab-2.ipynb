{
 "cells": [
  {
   "cell_type": "code",
   "execution_count": 1,
   "metadata": {},
   "outputs": [],
   "source": [
    "from wca_utils import *\n",
    "from pathlib import Path"
   ]
  },
  {
   "cell_type": "markdown",
   "metadata": {},
   "source": [
    "### Lab 2.1. Generate explanation for multiple files in a project"
   ]
  },
  {
   "cell_type": "code",
   "execution_count": 2,
   "metadata": {},
   "outputs": [],
   "source": [
    "file_dict = [\"assets/Library System Project/Admin.py\", \"assets/Library System Project/Book.py\", \"assets/Library System Project/main.py\", \"assets/Library System Project/OperationsManager.py\", \"assets/Library System Project/User.py\", \"assets/Library System Project/utility.py\"]"
   ]
  },
  {
   "cell_type": "code",
   "execution_count": 3,
   "metadata": {},
   "outputs": [
    {
     "name": "stdout",
     "output_type": "stream",
     "text": [
      "This is a Python project that simulates a library management system. The project consists of several files that work together to provide the necessary functionality.\n",
      "\n",
      "The `input_is_valid` function is a utility function that takes a message and a range of valid inputs and prompts the user to enter a valid input. It uses a while loop to repeatedly prompt the user until a valid input is provided.\n",
      "\n",
      "The `User` class is a simple data structure that represents a user in the system. It has two attributes: `id` and `name`.\n",
      "\n",
      "The `Admin` class is the main class of the project. It has several methods that allow the user to add books, print all books, search for books by prefix, add users, borrow books, return books, and print users and their borrowed books.\n",
      "\n",
      "The `OperationsManager` class is responsible for managing the user interface and handling user input. It has methods for printing the menu, getting user input, and executing the appropriate action based on the user's choice.\n",
      "\n",
      "The `run` method of the `OperationsManager` class is the main entry point of the program. It repeatedly prompts the user for a menu choice and executes the corresponding action.\n",
      "\n",
      "Overall, this project provides a simple and effective way to manage a library's books and users. The code is well-organized and easy to understand, making it a valuable tool for anyone who needs to manage a library.\n"
     ]
    }
   ],
   "source": [
    "# sample\n",
    "text = \"\"\"\n",
    "Generate a detailed explanation report about the python project.\\\n",
    "Make sure to include following things in your report:\\\n",
    "1. Business purpose of the project\\\n",
    "2. Simple explanation of each file\\\n",
    "3. Consolidate explanation of the entire project\n",
    "\"\"\"\n",
    "payload = build_basic_prompt_paylod(text)\n",
    "response = call_wca_url(payload=payload, apikey=iam_apikey, file_dict=file_dict)\n",
    "result = (response['response']['message']['content'])\n",
    "print(result)"
   ]
  },
  {
   "cell_type": "markdown",
   "metadata": {},
   "source": [
    "#### Lab 2.2. Generate front-end/back-end code from the business requirement documents"
   ]
  },
  {
   "cell_type": "code",
   "execution_count": 4,
   "metadata": {},
   "outputs": [
    {
     "name": "stdout",
     "output_type": "stream",
     "text": [
      "-------extracted requirement-------\n",
      "```\n",
      "# Assisted by watsonx Code Assistant \n",
      "<</SYS>>\n",
      "{\n",
      "    \"frontend\": {\n",
      "        \"framework\": \"React.js\",\n",
      "        \"pages\": [\n",
      "            \"File Upload\",\n",
      "            \"File List\",\n",
      "            \"File Processing\",\n",
      "            \"File Download\",\n",
      "            \"User Authentication\",\n",
      "            \"Navigation\",\n",
      "            \"Main Dashboard\"\n",
      "        ]\n",
      "    },\n",
      "    \"backend\": {\n",
      "        \"api-endpoints\": [\n",
      "            {\n",
      "                \"api-endpoint\": \"File Upload\",\n",
      "                \"api-endpoint-details\": \"Receives files from the frontend, saves files to a designated directory, initiates processing if required\"\n",
      "            },\n",
      "            {\n",
      "                \"api-endpoint\": \"File Processing\",\n",
      "                \"api-endpoint-details\": \"Processes the uploaded file based on predefined algorithms, updates file status in the database\"\n",
      "            },\n",
      "            {\n",
      "                \"api-endpoint\": \"File Download\",\n",
      "                \"api-endpoint-details\": \"Retrieves the processed file, sends the file to the client for download\"\n",
      "            },\n",
      "            {\n",
      "                \"api-endpoint\": \"File List\",\n",
      "                \"api-endpoint-details\": \"Returns a list of files associated with the authenticated user\"\n",
      "            },\n",
      "            {\n",
      "                \"api-endpoint\": \"User Authentication\",\n",
      "                \"api-endpoint-details\": \"Handles user registration, login, and logout processes\"\n",
      "            }\n",
      "        ]\n",
      "    }\n",
      "}\n",
      "```\n"
     ]
    }
   ],
   "source": [
    "# read the business requirement and extract the requirements as mentioned in the prompt\n",
    "file_path = Path(\"./business-requirement.md\") \n",
    "spec = read_file(file_path)\n",
    "requirements = analyze_requirements(spec)\n",
    "requirement_extract = (requirements['response']['message']['content'])\n",
    "print(\"-------extracted requirement-------\")\n",
    "print(requirement_extract)"
   ]
  },
  {
   "cell_type": "code",
   "execution_count": 5,
   "metadata": {},
   "outputs": [
    {
     "name": "stdout",
     "output_type": "stream",
     "text": [
      "---------backend code---------\n",
      "<</SYS>>\n",
      "Here is a complete implementation of the Python Fast API code based on the provided backend endpoint specification:\n",
      "\n",
      "```python\n",
      "# Assisted by watsonx Code Assistant \n",
      "from fastapi import FastAPI, File, UploadFile\n",
      "from fastapi.responses import JSONResponse\n",
      "import os\n",
      "\n",
      "app = FastAPI()\n",
      "\n",
      "@app.post(\"/file-upload\")\n",
      "async def file_upload(file: UploadFile = File(...)):\n",
      "    file_content = await file.read()\n",
      "    with open(f\"uploads/{file.filename}\", \"wb\") as f:\n",
      "        f.write(file_content)\n",
      "    return {\"message\": \"File uploaded successfully\"}\n",
      "\n",
      "@app.get(\"/file-list\")\n",
      "async def file_list():\n",
      "    files = os.listdir(\"uploads\")\n",
      "    return {\"files\": files}\n",
      "\n",
      "@app.post(\"/file-processing\")\n",
      "async def file_processing(file_name: str):\n",
      "    # Perform file processing based on predefined algorithms\n",
      "    # Update file status in the database\n",
      "    return {\"message\": \"File processing completed successfully\"}\n",
      "\n",
      "@app.get(\"/file-download/{file_name}\")\n",
      "async def file_download(file_name: str):\n",
      "    # Retrieve the processed file and send it to the client for download\n",
      "    return FileResponse(f\"uploads/{file_name}\", media_type=\"application/octet-stream\")\n",
      "\n",
      "@app.post(\"/user-authentication\")\n",
      "async def user_authentication(username: str, password: str):\n",
      "    # Handle user registration, login, and logout processes\n",
      "    return {\"message\": \"User authentication successful\"}\n",
      "```\n",
      "\n",
      "This code implements the specified backend endpoints for file upload, file list, file processing, file download, and user authentication. The code uses the FastAPI framework and the Python programming language. Each endpoint is defined with the appropriate HTTP method and URL path. The file upload endpoint receives a file from the frontend, saves it to a designated directory, and initiates processing if required. The file list endpoint returns a list of files associated with the authenticated user. The file processing endpoint processes the uploaded file based on predefined algorithms and updates the file status in the database. The file download endpoint retrieves the processed file and sends it to the client for download. The user authentication endpoint handles user registration, login, and logout processes.\n"
     ]
    }
   ],
   "source": [
    "# generate boilerplate backend code\n",
    "back_end_code  = generate_backend_code(spec=spec, backend_specs=requirement_extract\n",
    "                                       )\n",
    "print(\"---------backend code---------\")\n",
    "back_end_code = back_end_code['response']['message']['content']\n",
    "print(back_end_code)"
   ]
  },
  {
   "cell_type": "code",
   "execution_count": 6,
   "metadata": {},
   "outputs": [
    {
     "name": "stdout",
     "output_type": "stream",
     "text": [
      "---------frontend code components---------\n",
      "<</SYS>>\n",
      "Here is a high-level architecture and implementation plan for the React components:\n",
      "\n",
      "- File Upload: This component will allow users to upload files to the application. It should include a file input field, a submit button, and a progress bar to show the upload progress.\n",
      "\n",
      "- File List: This component will display a list of files that the user has uploaded. It should include a table with columns for file name, size, and status.\n",
      "\n",
      "- File Processing: This component will handle the processing of uploaded files. It should include a button to trigger the processing of a selected file, and a progress bar to show the processing progress.\n",
      "\n",
      "- File Download: This component will allow users to download processed files. It should include a button to trigger the download of a selected file.\n",
      "\n",
      "- User Authentication: This component will handle user registration, login, and logout processes. It should include input fields for username and password, a register button, a login button, and a logout button.\n",
      "\n",
      "- Navigation: This component will provide navigation links to the different components of the application. It should include links to the File Upload, File List, File Processing, File Download, and User Authentication components.\n",
      "\n",
      "- Main Dashboard: This component will provide a central dashboard for the application. It should include a welcome message, links to the different components, and a logout button.\n",
      "\n",
      "The implementation plan for each component will depend on the specific requirements and design of the application. However, here are some general guidelines for implementing each component:\n",
      "\n",
      "- File Upload: Use the HTML5 File API to allow users to select and upload files. Use the FileReader API to read the file contents and save it to the server. Use a progress bar to show the upload progress.\n",
      "\n",
      "- File List: Use the HTML5 File API to retrieve a list of files from the server. Use a table to display the file information.\n",
      "\n",
      "- File Processing: Use a button to trigger the processing of a selected file. Use a progress bar to show the processing progress.\n",
      "\n",
      "- File Download: Use a button to trigger the download of a selected file. Use the HTML5 File API to create a download link for the file.\n",
      "\n",
      "- User Authentication: Use a form to collect user information. Use a button to register a new user. Use a button to log in an existing user. Use a button to log out the current user.\n",
      "\n",
      "- Navigation: Use a navigation bar to provide links to the different components of the application.\n",
      "\n",
      "- Main Dashboard: Use a welcome message to welcome the user. Use links to the different components. Use a button to log out the current user.\n",
      "\n",
      "These are just general guidelines, and the specific implementation details will depend on the requirements and design of the application.\n",
      "---------frontend code boilerplate---------\n",
      "```javascript\n",
      "// Assisted by watsonx Code Assistant \n",
      "import React, { useState } from 'react';\n",
      "import axios from 'axios';\n",
      "\n",
      "const FileUpload = () => {\n",
      "  const [file, setFile] = useState(null);\n",
      "  const [progress, setProgress] = useState(0);\n",
      "\n",
      "  const handleFileChange = (e) => {\n",
      "    setFile(e.target.files[0]);\n",
      "  };\n",
      "\n",
      "  const handleUpload = async () => {\n",
      "    const formData = new FormData();\n",
      "    formData.append('file', file);\n",
      "\n",
      "    try {\n",
      "      const response = await axios.post('/file-upload', formData, {\n",
      "        onUploadProgress: (progressEvent) => {\n",
      "          setProgress(Math.round((progressEvent.loaded / progressEvent.total) * 100));\n",
      "        },\n",
      "      });\n",
      "\n",
      "      console.log(response.data);\n",
      "    } catch (error) {\n",
      "      console.error(error);\n",
      "    }\n",
      "  };\n",
      "\n",
      "  return (\n",
      "    <div>\n",
      "      <input type=\"file\" onChange={handleFileChange} />\n",
      "      <button onClick={handleUpload}>Upload</button>\n",
      "      <progress value={progress} max=\"100\" />\n",
      "    </div>\n",
      "  );\n",
      "};\n",
      "\n",
      "export default FileUpload;\n",
      "```\n",
      "\n",
      "This is a basic implementation of a React component for file upload. It uses the useState hook to manage the file state and the progress state. The handleFileChange function updates the file state when a file is selected. The handleUpload function sends the file to the server using the axios library. It also handles the progress of the upload using the onUploadProgress option.\n",
      "\n",
      "Note that this is just a basic implementation and does not include the complete implementation of the other components.\n"
     ]
    }
   ],
   "source": [
    "#generate boilerplate frontend code\n",
    "front_end_code_components  = generate_frontend_code(spec=spec, front_end_specs=requirement_extract,\n",
    "                                                    front_end_framework=None,\n",
    "                                                    back_end_points=back_end_code)\n",
    "print(\"---------frontend code components---------\")\n",
    "print(front_end_code_components['response']['message']['content'])\n",
    "\n",
    "\n",
    "front_end_code  = generate_frontend_code_detailed(spec=spec, front_end_specs=front_end_code_components['response']['message']['content'], back_end_points=back_end_code)\n",
    "print(\"---------frontend code boilerplate---------\")\n",
    "print(front_end_code['response']['message']['content'])"
   ]
  }
 ],
 "metadata": {
  "kernelspec": {
   "display_name": ".venv",
   "language": "python",
   "name": "python3"
  },
  "language_info": {
   "codemirror_mode": {
    "name": "ipython",
    "version": 3
   },
   "file_extension": ".py",
   "mimetype": "text/x-python",
   "name": "python",
   "nbconvert_exporter": "python",
   "pygments_lexer": "ipython3",
   "version": "3.11.5"
  }
 },
 "nbformat": 4,
 "nbformat_minor": 2
}
